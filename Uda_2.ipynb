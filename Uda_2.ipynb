{
  "nbformat": 4,
  "nbformat_minor": 0,
  "metadata": {
    "colab": {
      "provenance": [],
      "authorship_tag": "ABX9TyM8EcLUM2QNYby/liRWU3Sc",
      "include_colab_link": true
    },
    "kernelspec": {
      "name": "python3",
      "display_name": "Python 3"
    },
    "language_info": {
      "name": "python"
    }
  },
  "cells": [
    {
      "cell_type": "markdown",
      "metadata": {
        "id": "view-in-github",
        "colab_type": "text"
      },
      "source": [
        "<a href=\"https://colab.research.google.com/github/kishan20-00/Temperature-Converter/blob/main/Uda_2.ipynb\" target=\"_parent\"><img src=\"https://colab.research.google.com/assets/colab-badge.svg\" alt=\"Open In Colab\"/></a>"
      ]
    },
    {
      "cell_type": "code",
      "execution_count": 4,
      "metadata": {
        "id": "mOaPeWruy9R7"
      },
      "outputs": [],
      "source": [
        "import tensorflow as tf\n",
        "\n",
        "import numpy as np"
      ]
    },
    {
      "cell_type": "code",
      "source": [
        "celsius_q = np.array([-40, -10, 0, 8, 15, 22, 38], dtype=float)\n",
        "fahrenheit_a = np.array([-40, 14, 32, 46, 59, 72, 100], dtype=float)\n",
        "\n",
        "for i,c in enumerate(celsius_q):\n",
        "  print(\"{} degrees Celsius = {} degrees Fahrenheit\".format(c, fahrenheit_a[i]))"
      ],
      "metadata": {
        "colab": {
          "base_uri": "https://localhost:8080/"
        },
        "id": "49GIrRrm0yFG",
        "outputId": "9bc150e4-7088-43ad-c133-bb5a95633395"
      },
      "execution_count": 5,
      "outputs": [
        {
          "output_type": "stream",
          "name": "stdout",
          "text": [
            "-40.0 degrees Celsius = -40.0 degrees Fahrenheit\n",
            "-10.0 degrees Celsius = 14.0 degrees Fahrenheit\n",
            "0.0 degrees Celsius = 32.0 degrees Fahrenheit\n",
            "8.0 degrees Celsius = 46.0 degrees Fahrenheit\n",
            "15.0 degrees Celsius = 59.0 degrees Fahrenheit\n",
            "22.0 degrees Celsius = 72.0 degrees Fahrenheit\n",
            "38.0 degrees Celsius = 100.0 degrees Fahrenheit\n"
          ]
        }
      ]
    },
    {
      "cell_type": "markdown",
      "source": [
        "**Build a Layer**"
      ],
      "metadata": {
        "id": "zxZRGrNOBdPh"
      }
    },
    {
      "cell_type": "code",
      "source": [
        "IO = tf.keras.layers.Dense(units=1, input_shape=[1])"
      ],
      "metadata": {
        "id": "crn7rJik2Iu7"
      },
      "execution_count": 19,
      "outputs": []
    },
    {
      "cell_type": "markdown",
      "source": [
        "**Assembling layers into the model**"
      ],
      "metadata": {
        "id": "IsCBjgYkBWEw"
      }
    },
    {
      "cell_type": "code",
      "source": [
        "model = tf.keras.Sequential([IO])"
      ],
      "metadata": {
        "id": "aIzRVgdq2sfH"
      },
      "execution_count": 20,
      "outputs": []
    },
    {
      "cell_type": "markdown",
      "source": [
        "**Compile the model**"
      ],
      "metadata": {
        "id": "1XcpojYqBqBX"
      }
    },
    {
      "cell_type": "code",
      "source": [
        "model.compile(loss='mean_squared_error', optimizer=tf.keras.optimizers.Adam(0.1))"
      ],
      "metadata": {
        "id": "JUG6bX5uBQkT"
      },
      "execution_count": 21,
      "outputs": []
    },
    {
      "cell_type": "markdown",
      "source": [
        "**Train the model**"
      ],
      "metadata": {
        "id": "BThlgwbTI0L6"
      }
    },
    {
      "cell_type": "code",
      "source": [
        "history = model.fit(celsius_q, fahrenheit_a, epochs=500, verbose=False)\n",
        "print(\"Finished training the model\")"
      ],
      "metadata": {
        "colab": {
          "base_uri": "https://localhost:8080/"
        },
        "id": "3zPPiy3zIIlO",
        "outputId": "3e87cc6e-ef3c-440e-8af0-4c4c07f32994"
      },
      "execution_count": 22,
      "outputs": [
        {
          "output_type": "stream",
          "name": "stdout",
          "text": [
            "Finished training the model\n"
          ]
        }
      ]
    },
    {
      "cell_type": "markdown",
      "source": [
        "**Display training statistics**"
      ],
      "metadata": {
        "id": "1XK7y7MHJNw4"
      }
    },
    {
      "cell_type": "code",
      "source": [
        "import matplotlib.pyplot as plt\n",
        "plt.xlabel(\"Epoch Number\")\n",
        "plt.ylabel(\"Loss Magnitude\")\n",
        "plt.plot(history.history['loss'])"
      ],
      "metadata": {
        "colab": {
          "base_uri": "https://localhost:8080/",
          "height": 296
        },
        "id": "QiZgWH5lKu2u",
        "outputId": "5dbd9bce-ff77-4ad9-f128-4dc5475e62f9"
      },
      "execution_count": 23,
      "outputs": [
        {
          "output_type": "execute_result",
          "data": {
            "text/plain": [
              "[<matplotlib.lines.Line2D at 0x7f77d41b85d0>]"
            ]
          },
          "metadata": {},
          "execution_count": 23
        },
        {
          "output_type": "display_data",
          "data": {
            "text/plain": [
              "<Figure size 432x288 with 1 Axes>"
            ],
            "image/png": "[encoded data removed]"
          },
          "metadata": {
            "needs_background": "light"
          }
        }
      ]
    },
    {
      "cell_type": "markdown",
      "source": [
        "**Use the model to predict values**"
      ],
      "metadata": {
        "id": "SCHE_vnXNyL4"
      }
    },
    {
      "cell_type": "code",
      "source": [
        "print(model.predict([100.0]))"
      ],
      "metadata": {
        "colab": {
          "base_uri": "https://localhost:8080/"
        },
        "id": "le9S5NbeNxAY",
        "outputId": "653f8923-5e62-4954-9c5a-9907ac734a5f"
      },
      "execution_count": 25,
      "outputs": [
        {
          "output_type": "stream",
          "name": "stdout",
          "text": [
            "1/1 [==============================] - 0s 54ms/step\n",
            "[[211.3295]]\n"
          ]
        }
      ]
    },
    {
      "cell_type": "markdown",
      "source": [
        "**Looking at the layer weights**"
      ],
      "metadata": {
        "id": "fhSpJLSPON-f"
      }
    },
    {
      "cell_type": "code",
      "source": [
        "print(\"These are the layer variables: {}\".format(IO.get_weights()))"
      ],
      "metadata": {
        "colab": {
          "base_uri": "https://localhost:8080/"
        },
        "id": "bkBLaE7FORLR",
        "outputId": "8757bc03-0660-4beb-d422-b706412da423"
      },
      "execution_count": 26,
      "outputs": [
        {
          "output_type": "stream",
          "name": "stdout",
          "text": [
            "These are the layer variables: [array([[1.8217883]], dtype=float32), array([29.15067], dtype=float32)]\n"
          ]
        }
      ]
    },
    {
      "cell_type": "markdown",
      "source": [
        "**A little experiment**"
      ],
      "metadata": {
        "id": "PFX2NFL7RCRn"
      }
    },
    {
      "cell_type": "code",
      "source": [
        "IO = tf.keras.layers.Dense(units=4, input_shape=[1])\n",
        "IO1 = tf.keras.layers.Dense(units=4)\n",
        "IO2 = tf.keras.layers.Dense(units=1)\n",
        "model = tf.keras.Sequential([IO, IO1, IO2])\n",
        "model.compile(loss='mean_squared_error', optimizer=tf.keras.optimizers.Adam(0.1))\n",
        "model.fit(celsius_q, fahrenheit_a, epochs=500, verbose=False)\n",
        "print(\"Finished training the model\")\n",
        "print(model.predict([100.0]))\n",
        "print(\"Model predicts that 100 degrees Celcius is: {} degrees Fahrenheit\".format(model.predict([100.0])))\n",
        "print(\"These are the IO variables: {}\".format(IO.get_weights()))\n",
        "print(\"These are the 11 variables: {}\".format(IO1.get_weights()))\n",
        "print(\"These are the 12 variables: {}\".format(IO2.get_weights()))"
      ],
      "metadata": {
        "colab": {
          "base_uri": "https://localhost:8080/"
        },
        "id": "1hYaanonRFUg",
        "outputId": "bde3a458-5a8e-41d6-a14d-c7a3bdaa974c"
      },
      "execution_count": 27,
      "outputs": [
        {
          "output_type": "stream",
          "name": "stdout",
          "text": [
            "Finished training the model\n",
            "1/1 [==============================] - 0s 60ms/step\n",
            "[[211.74744]]\n",
            "1/1 [==============================] - 0s 34ms/step\n",
            "Model predicts that 100 degrees Celcius is: [[211.74744]] degrees Fahrenheit\n",
            "These are the IO variables: [array([[-0.1217685 ,  0.10505246,  0.15535171, -0.46162835]],\n",
            "      dtype=float32), array([-1.3860012,  2.5748541,  2.6704845, -2.6991944], dtype=float32)]\n",
            "These are the 11 variables: [array([[ 0.23539731,  0.42365447,  0.48014474,  0.5158605 ],\n",
            "       [-0.98246634,  1.0379405 , -0.68838114, -0.59834117],\n",
            "       [-0.729971  ,  0.715143  ,  0.00862083,  0.32380024],\n",
            "       [ 0.3792949 , -0.8944761 ,  0.7790781 ,  0.7948381 ]],\n",
            "      dtype=float32), array([-2.6839108,  2.729524 , -2.6789613, -2.499833 ], dtype=float32)]\n",
            "These are the 12 variables: [array([[-1.1606015 ],\n",
            "       [ 0.8875511 ],\n",
            "       [-0.82348365],\n",
            "       [-0.8845597 ]], dtype=float32), array([2.6951244], dtype=float32)]\n"
          ]
        }
      ]
    }
  ]
}